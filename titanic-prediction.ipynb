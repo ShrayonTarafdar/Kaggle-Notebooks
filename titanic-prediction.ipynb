{
 "cells": [
  {
   "cell_type": "code",
   "execution_count": null,
   "id": "dd5845fe",
   "metadata": {
    "papermill": {
     "duration": 0.002777,
     "end_time": "2024-06-16T07:34:06.302307",
     "exception": false,
     "start_time": "2024-06-16T07:34:06.299530",
     "status": "completed"
    },
    "tags": []
   },
   "outputs": [],
   "source": []
  },
  {
   "cell_type": "code",
   "execution_count": 1,
   "id": "ee2a13f8",
   "metadata": {
    "_cell_guid": "b1076dfc-b9ad-4769-8c92-a6c4dae69d19",
    "_uuid": "8f2839f25d086af736a60e9eeb907d3b93b6e0e5",
    "execution": {
     "iopub.execute_input": "2024-06-16T07:34:06.308677Z",
     "iopub.status.busy": "2024-06-16T07:34:06.308303Z",
     "iopub.status.idle": "2024-06-16T07:34:07.173663Z",
     "shell.execute_reply": "2024-06-16T07:34:07.172506Z"
    },
    "papermill": {
     "duration": 0.871345,
     "end_time": "2024-06-16T07:34:07.176069",
     "exception": false,
     "start_time": "2024-06-16T07:34:06.304724",
     "status": "completed"
    },
    "tags": []
   },
   "outputs": [
    {
     "name": "stdout",
     "output_type": "stream",
     "text": [
      "/kaggle/input/titanic/train.csv\n",
      "/kaggle/input/titanic/test.csv\n",
      "/kaggle/input/titanic/gender_submission.csv\n"
     ]
    }
   ],
   "source": [
    "# This Python 3 environment comes with many helpful analytics libraries installed\n",
    "# It is defined by the kaggle/python Docker image: https://github.com/kaggle/docker-python\n",
    "# For example, here's several helpful packages to load\n",
    "\n",
    "import numpy as np # linear algebra\n",
    "import pandas as pd # data processing, CSV file I/O (e.g. pd.read_csv)\n",
    "\n",
    "# Input data files are available in the read-only \"../input/\" directory\n",
    "# For example, running this (by clicking run or pressing Shift+Enter) will list all files under the input directory\n",
    "\n",
    "import os\n",
    "for dirname, _, filenames in os.walk('/kaggle/input'):\n",
    "    for filename in filenames:\n",
    "        print(os.path.join(dirname, filename))\n",
    "\n",
    "# You can write up to 20GB to the current directory (/kaggle/working/) that gets preserved as output when you create a version using \"Save & Run All\" \n",
    "# You can also write temporary files to /kaggle/temp/, but they won't be saved outside of the current session"
   ]
  },
  {
   "cell_type": "code",
   "execution_count": 2,
   "id": "44f6cb01",
   "metadata": {
    "execution": {
     "iopub.execute_input": "2024-06-16T07:34:07.182276Z",
     "iopub.status.busy": "2024-06-16T07:34:07.181785Z",
     "iopub.status.idle": "2024-06-16T07:34:07.215417Z",
     "shell.execute_reply": "2024-06-16T07:34:07.214152Z"
    },
    "papermill": {
     "duration": 0.039787,
     "end_time": "2024-06-16T07:34:07.218177",
     "exception": false,
     "start_time": "2024-06-16T07:34:07.178390",
     "status": "completed"
    },
    "tags": []
   },
   "outputs": [],
   "source": [
    "train_data=pd.read_csv(\"/kaggle/input/titanic/train.csv\")\n",
    "train_data.head()\n",
    "\n",
    "test_data=pd.read_csv(\"/kaggle/input/titanic/test.csv\")"
   ]
  },
  {
   "cell_type": "code",
   "execution_count": 3,
   "id": "6caaab88",
   "metadata": {
    "execution": {
     "iopub.execute_input": "2024-06-16T07:34:07.224933Z",
     "iopub.status.busy": "2024-06-16T07:34:07.224080Z",
     "iopub.status.idle": "2024-06-16T07:34:08.954205Z",
     "shell.execute_reply": "2024-06-16T07:34:08.952904Z"
    },
    "papermill": {
     "duration": 1.736047,
     "end_time": "2024-06-16T07:34:08.956674",
     "exception": false,
     "start_time": "2024-06-16T07:34:07.220627",
     "status": "completed"
    },
    "tags": []
   },
   "outputs": [
    {
     "name": "stdout",
     "output_type": "stream",
     "text": [
      "Your submission was successfully saved!\n"
     ]
    }
   ],
   "source": [
    "from sklearn.ensemble import RandomForestClassifier\n",
    "\n",
    "y = train_data[\"Survived\"]\n",
    "\n",
    "features = [\"Pclass\", \"Sex\", \"SibSp\", \"Parch\"]\n",
    "X = pd.get_dummies(train_data[features])\n",
    "X_test = pd.get_dummies(test_data[features])\n",
    "\n",
    "model = RandomForestClassifier(n_estimators=100, max_depth=5, random_state=1)\n",
    "model.fit(X, y)\n",
    "predictions = model.predict(X_test)\n",
    "\n",
    "output = pd.DataFrame({'PassengerId': test_data.PassengerId, 'Survived': predictions})\n",
    "output.to_csv('submission.csv', index=False)\n",
    "print(\"Your submission was successfully saved!\")"
   ]
  },
  {
   "cell_type": "code",
   "execution_count": null,
   "id": "49ffbe4b",
   "metadata": {
    "papermill": {
     "duration": 0.002003,
     "end_time": "2024-06-16T07:34:08.961125",
     "exception": false,
     "start_time": "2024-06-16T07:34:08.959122",
     "status": "completed"
    },
    "tags": []
   },
   "outputs": [],
   "source": []
  }
 ],
 "metadata": {
  "kaggle": {
   "accelerator": "none",
   "dataSources": [
    {
     "databundleVersionId": 26502,
     "sourceId": 3136,
     "sourceType": "competition"
    }
   ],
   "dockerImageVersionId": 30732,
   "isGpuEnabled": false,
   "isInternetEnabled": false,
   "language": "python",
   "sourceType": "notebook"
  },
  "kernelspec": {
   "display_name": "Python 3",
   "language": "python",
   "name": "python3"
  },
  "language_info": {
   "codemirror_mode": {
    "name": "ipython",
    "version": 3
   },
   "file_extension": ".py",
   "mimetype": "text/x-python",
   "name": "python",
   "nbconvert_exporter": "python",
   "pygments_lexer": "ipython3",
   "version": "3.10.13"
  },
  "papermill": {
   "default_parameters": {},
   "duration": 5.987798,
   "end_time": "2024-06-16T07:34:09.584517",
   "environment_variables": {},
   "exception": null,
   "input_path": "__notebook__.ipynb",
   "output_path": "__notebook__.ipynb",
   "parameters": {},
   "start_time": "2024-06-16T07:34:03.596719",
   "version": "2.5.0"
  }
 },
 "nbformat": 4,
 "nbformat_minor": 5
}
